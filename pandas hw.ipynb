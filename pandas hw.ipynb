{
 "cells": [
  {
   "cell_type": "code",
   "execution_count": 2,
   "metadata": {},
   "outputs": [],
   "source": [
    "import pandas as pd"
   ]
  },
  {
   "cell_type": "code",
   "execution_count": 3,
   "metadata": {},
   "outputs": [],
   "source": [
    "df = pd.read_csv('orders.csv', sep = ',')"
   ]
  },
  {
   "cell_type": "code",
   "execution_count": 5,
   "metadata": {},
   "outputs": [
    {
     "data": {
      "text/html": [
       "<div>\n",
       "<style scoped>\n",
       "    .dataframe tbody tr th:only-of-type {\n",
       "        vertical-align: middle;\n",
       "    }\n",
       "\n",
       "    .dataframe tbody tr th {\n",
       "        vertical-align: top;\n",
       "    }\n",
       "\n",
       "    .dataframe thead th {\n",
       "        text-align: right;\n",
       "    }\n",
       "</style>\n",
       "<table border=\"1\" class=\"dataframe\">\n",
       "  <thead>\n",
       "    <tr style=\"text-align: right;\">\n",
       "      <th></th>\n",
       "      <th>date</th>\n",
       "      <th>vendor_id</th>\n",
       "      <th>chain_id</th>\n",
       "      <th>city_id</th>\n",
       "      <th>spec</th>\n",
       "      <th>successful_orders</th>\n",
       "      <th>fail_orders</th>\n",
       "    </tr>\n",
       "  </thead>\n",
       "  <tbody>\n",
       "    <tr>\n",
       "      <th>96108</th>\n",
       "      <td>2019-06-21</td>\n",
       "      <td>54751</td>\n",
       "      <td>37343</td>\n",
       "      <td>24</td>\n",
       "      <td>Пицца</td>\n",
       "      <td>6.0</td>\n",
       "      <td>0.0</td>\n",
       "    </tr>\n",
       "    <tr>\n",
       "      <th>96109</th>\n",
       "      <td>2019-07-05</td>\n",
       "      <td>44359</td>\n",
       "      <td>31162</td>\n",
       "      <td>26</td>\n",
       "      <td>Бургеры</td>\n",
       "      <td>79.0</td>\n",
       "      <td>0.0</td>\n",
       "    </tr>\n",
       "    <tr>\n",
       "      <th>96110</th>\n",
       "      <td>2019-09-22</td>\n",
       "      <td>42858</td>\n",
       "      <td>26442</td>\n",
       "      <td>23</td>\n",
       "      <td>Пицца</td>\n",
       "      <td>3.0</td>\n",
       "      <td>0.0</td>\n",
       "    </tr>\n",
       "    <tr>\n",
       "      <th>96111</th>\n",
       "      <td>2019-07-17</td>\n",
       "      <td>40059</td>\n",
       "      <td>7501</td>\n",
       "      <td>23</td>\n",
       "      <td>Суши</td>\n",
       "      <td>16.0</td>\n",
       "      <td>1.0</td>\n",
       "    </tr>\n",
       "    <tr>\n",
       "      <th>96112</th>\n",
       "      <td>2019-06-23</td>\n",
       "      <td>43803</td>\n",
       "      <td>30918</td>\n",
       "      <td>26</td>\n",
       "      <td>Русская</td>\n",
       "      <td>3.0</td>\n",
       "      <td>0.0</td>\n",
       "    </tr>\n",
       "    <tr>\n",
       "      <th>96113</th>\n",
       "      <td>2019-08-18</td>\n",
       "      <td>44315</td>\n",
       "      <td>31154</td>\n",
       "      <td>24</td>\n",
       "      <td>Суши</td>\n",
       "      <td>2.0</td>\n",
       "      <td>0.0</td>\n",
       "    </tr>\n",
       "    <tr>\n",
       "      <th>96114</th>\n",
       "      <td>2019-06-15</td>\n",
       "      <td>17528</td>\n",
       "      <td>11182</td>\n",
       "      <td>25</td>\n",
       "      <td>Пицца</td>\n",
       "      <td>11.0</td>\n",
       "      <td>1.0</td>\n",
       "    </tr>\n",
       "    <tr>\n",
       "      <th>96115</th>\n",
       "      <td>2019-08-19</td>\n",
       "      <td>45351</td>\n",
       "      <td>31679</td>\n",
       "      <td>23</td>\n",
       "      <td>Вьетнамская</td>\n",
       "      <td>1.0</td>\n",
       "      <td>0.0</td>\n",
       "    </tr>\n",
       "    <tr>\n",
       "      <th>96116</th>\n",
       "      <td>2019-09-26</td>\n",
       "      <td>64209</td>\n",
       "      <td>42525</td>\n",
       "      <td>25</td>\n",
       "      <td>Суши</td>\n",
       "      <td>7.0</td>\n",
       "      <td>0.0</td>\n",
       "    </tr>\n",
       "    <tr>\n",
       "      <th>96117</th>\n",
       "      <td>2019-09-06</td>\n",
       "      <td>34676</td>\n",
       "      <td>25567</td>\n",
       "      <td>26</td>\n",
       "      <td>Итальянская</td>\n",
       "      <td>1.0</td>\n",
       "      <td>0.0</td>\n",
       "    </tr>\n",
       "  </tbody>\n",
       "</table>\n",
       "</div>"
      ],
      "text/plain": [
       "             date  vendor_id  chain_id  city_id         spec  \\\n",
       "96108  2019-06-21      54751     37343       24        Пицца   \n",
       "96109  2019-07-05      44359     31162       26      Бургеры   \n",
       "96110  2019-09-22      42858     26442       23        Пицца   \n",
       "96111  2019-07-17      40059      7501       23         Суши   \n",
       "96112  2019-06-23      43803     30918       26      Русская   \n",
       "96113  2019-08-18      44315     31154       24         Суши   \n",
       "96114  2019-06-15      17528     11182       25        Пицца   \n",
       "96115  2019-08-19      45351     31679       23  Вьетнамская   \n",
       "96116  2019-09-26      64209     42525       25         Суши   \n",
       "96117  2019-09-06      34676     25567       26  Итальянская   \n",
       "\n",
       "       successful_orders  fail_orders  \n",
       "96108                6.0          0.0  \n",
       "96109               79.0          0.0  \n",
       "96110                3.0          0.0  \n",
       "96111               16.0          1.0  \n",
       "96112                3.0          0.0  \n",
       "96113                2.0          0.0  \n",
       "96114               11.0          1.0  \n",
       "96115                1.0          0.0  \n",
       "96116                7.0          0.0  \n",
       "96117                1.0          0.0  "
      ]
     },
     "execution_count": 5,
     "metadata": {},
     "output_type": "execute_result"
    }
   ],
   "source": [
    "df.tail(10)"
   ]
  },
  {
   "cell_type": "code",
   "execution_count": 25,
   "metadata": {},
   "outputs": [
    {
     "name": "stdout",
     "output_type": "stream",
     "text": [
      "<class 'pandas.core.frame.DataFrame'>\n",
      "RangeIndex: 96118 entries, 0 to 96117\n",
      "Data columns (total 7 columns):\n",
      " #   Column             Non-Null Count  Dtype  \n",
      "---  ------             --------------  -----  \n",
      " 0   date               96118 non-null  object \n",
      " 1   vendor_id          96118 non-null  int64  \n",
      " 2   chain_id           96118 non-null  int64  \n",
      " 3   city_id            96118 non-null  int64  \n",
      " 4   spec               95733 non-null  object \n",
      " 5   successful_orders  96118 non-null  float64\n",
      " 6   fail_orders        96118 non-null  float64\n",
      "dtypes: float64(2), int64(3), object(2)\n",
      "memory usage: 5.1+ MB\n"
     ]
    }
   ],
   "source": [
    "df.info()"
   ]
  },
  {
   "cell_type": "code",
   "execution_count": 18,
   "metadata": {},
   "outputs": [
    {
     "data": {
      "text/plain": [
       "672826"
      ]
     },
     "execution_count": 18,
     "metadata": {},
     "output_type": "execute_result"
    }
   ],
   "source": [
    "df.shape[0] * df.shape[1]"
   ]
  },
  {
   "cell_type": "code",
   "execution_count": 46,
   "metadata": {},
   "outputs": [
    {
     "data": {
      "text/plain": [
       "count     96118\n",
       "unique        4\n",
       "top          23\n",
       "freq      32995\n",
       "Name: city_id, dtype: int64"
      ]
     },
     "execution_count": 46,
     "metadata": {},
     "output_type": "execute_result"
    }
   ],
   "source": [
    "df['city_id'].astype('category').describe()"
   ]
  },
  {
   "cell_type": "code",
   "execution_count": 24,
   "metadata": {},
   "outputs": [
    {
     "data": {
      "text/plain": [
       "8.877400694979087"
      ]
     },
     "execution_count": 24,
     "metadata": {},
     "output_type": "execute_result"
    }
   ],
   "source": [
    "df['successful_orders'].mean()"
   ]
  },
  {
   "cell_type": "code",
   "execution_count": 67,
   "metadata": {},
   "outputs": [
    {
     "data": {
      "text/plain": [
       "1103"
      ]
     },
     "execution_count": 67,
     "metadata": {},
     "output_type": "execute_result"
    }
   ],
   "source": [
    "df['spec'] = df['spec'].astype('category')\n",
    "df.groupby('spec').get_group('Рыба').shape[0]"
   ]
  },
  {
   "cell_type": "code",
   "execution_count": 49,
   "metadata": {},
   "outputs": [
    {
     "data": {
      "text/plain": [
       "45"
      ]
     },
     "execution_count": 49,
     "metadata": {},
     "output_type": "execute_result"
    }
   ],
   "source": [
    "df[(df['vendor_id'] == 40065) & (df['successful_orders'] < 20)].value_counts().shape[0]"
   ]
  },
  {
   "cell_type": "code",
   "execution_count": 45,
   "metadata": {},
   "outputs": [
    {
     "data": {
      "text/plain": [
       "9.294242493601615"
      ]
     },
     "execution_count": 45,
     "metadata": {},
     "output_type": "execute_result"
    }
   ],
   "source": [
    "(df['successful_orders'] + df['fail_orders']).mean()"
   ]
  },
  {
   "cell_type": "code",
   "execution_count": 60,
   "metadata": {},
   "outputs": [
    {
     "data": {
      "text/plain": [
       "23"
      ]
     },
     "execution_count": 60,
     "metadata": {},
     "output_type": "execute_result"
    }
   ],
   "source": [
    "df.sort_values(by=['successful_orders']).iloc[0]['city_id']"
   ]
  },
  {
   "cell_type": "code",
   "execution_count": 68,
   "metadata": {},
   "outputs": [
    {
     "data": {
      "text/plain": [
       "spec\n",
       "Гирос                  0.024540\n",
       "Вьетнамская            0.026832\n",
       "Супы                   0.028273\n",
       "Суши                   0.028781\n",
       "Рыба                   0.028856\n",
       "Китайская              0.029337\n",
       "Обеды                  0.032000\n",
       "Грузинская             0.035263\n",
       "Корейская              0.036082\n",
       "Итальянская            0.037000\n",
       "Пицца                  0.039258\n",
       "Пироги                 0.042445\n",
       "Фастфуд                0.045479\n",
       "Сэндвичи               0.046156\n",
       "Мясо                   0.049308\n",
       "Бургеры                0.049711\n",
       "Паназиатская           0.054592\n",
       "Русская                0.056282\n",
       "Десерты                0.057245\n",
       "Японская               0.063127\n",
       "Шашлыки                0.066714\n",
       "Паста и ризотто        0.068075\n",
       "Индийская              0.069042\n",
       "Узбекская              0.075888\n",
       "Хумус                  0.076923\n",
       "Шаурма                 0.085037\n",
       "Выпечка                0.085776\n",
       "Кофе и чай             0.091603\n",
       "Здоровая еда           0.117934\n",
       "Мексиканская           0.125984\n",
       "Хот-доги               0.140741\n",
       "Завтраки               0.155477\n",
       "Хинкали                0.166667\n",
       "Халяль                 0.217391\n",
       "Вегетарианское меню    0.827586\n",
       "dtype: float64"
      ]
     },
     "execution_count": 68,
     "metadata": {},
     "output_type": "execute_result"
    }
   ],
   "source": [
    "groups = df.groupby(['spec']).sum()\n",
    "(groups['fail_orders'] / (groups['successful_orders'] + groups['fail_orders'])).sort_values() # nlargest(1, '')"
   ]
  },
  {
   "cell_type": "code",
   "execution_count": 110,
   "metadata": {},
   "outputs": [
    {
     "name": "stderr",
     "output_type": "stream",
     "text": [
      "<ipython-input-110-20fd80bfd50b>:3: UserWarning: Boolean Series key will be reindexed to match DataFrame index.\n",
      "  srt = (df[(srt['date'] >= '2019-07-01') & (srt['date'] <= '2019-08-31')])[['chain_id', 'successful_orders', 'date']]\n"
     ]
    },
    {
     "data": {
      "text/plain": [
       "[1394,\n",
       " '78       29925\\n83       29925\\n85       29925\\n232      29925\\n322      29925\\n         ...  \\n95242    29925\\n95462    29925\\n95508    29925\\n95768    29925\\n95859    29925\\nName: chain_id, Length: 601, dtype: int64']"
      ]
     },
     "execution_count": 110,
     "metadata": {},
     "output_type": "execute_result"
    }
   ],
   "source": [
    "#df.groupby('spec')\n",
    "srt = df.sort_values(by=['date'])\n",
    "srt = (df[(srt['date'] >= '2019-07-01') & (srt['date'] <= '2019-08-31')])[['chain_id', 'successful_orders', 'date']]\n",
    "grpd = srt.groupby('chain_id')\n",
    "lst = []\n",
    "for gr in grpd.groups:\n",
    "    grp = grpd.get_group(gr)\n",
    "    a = int(grp['successful_orders'][grp['date'] >= '2019-08-01'].sum())\n",
    "    b = int(grp['successful_orders'][grp['date'] < '2019-08-01'].sum())\n",
    "    lst.append([a - b, str(grp['chain_id'])])\n",
    "\n",
    "max(lst)\n",
    "\n",
    "    \n",
    "    \n",
    "#srt[srt['date'] < '2019-08-01']['successful_orders'].sum()\n",
    "#srt[srt['date'] >= '2019-08-01']['successful_orders'].sum()"
   ]
  },
  {
   "cell_type": "code",
   "execution_count": null,
   "metadata": {},
   "outputs": [],
   "source": []
  }
 ],
 "metadata": {
  "kernelspec": {
   "display_name": "Python 3",
   "language": "python",
   "name": "python3"
  },
  "language_info": {
   "codemirror_mode": {
    "name": "ipython",
    "version": 3
   },
   "file_extension": ".py",
   "mimetype": "text/x-python",
   "name": "python",
   "nbconvert_exporter": "python",
   "pygments_lexer": "ipython3",
   "version": "3.8.2"
  }
 },
 "nbformat": 4,
 "nbformat_minor": 4
}
